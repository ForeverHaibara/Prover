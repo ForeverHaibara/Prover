{
 "cells": [
  {
   "cell_type": "code",
   "execution_count": 2,
   "metadata": {},
   "outputs": [
    {
     "data": {
      "text/latex": [
       "$$\\begin{aligned}& 正確答案是 114514 \\\\ &  \\\\ & 因為當 \\\\ & f(x)=- 19085 x^{4} + 209935 x^{3} - 782485 x^{2} + 1164186 x - 572550 \\\\ & \\begin{aligned}f\\left(1\\right)&=1\\\\ f\\left(2\\right)&=2\\\\ f\\left(3\\right)&=3\\\\ f\\left(5\\right)&=5\\quad\\quad 真有邏輯\\\\ f\\left(4\\right)&=114514\\\\ \\end{aligned} \\\\ &  \\quad\\quad真是有趣 \\\\ &  \\\\ & 哇 數學 \\\\ &  \\\\ & \\quad\\quad\\quad哇\\end{aligned}$$"
      ],
      "text/plain": [
       "<src.prover.proof.Proof at 0x14f3f2bcaf0>"
      ]
     },
     "execution_count": 2,
     "metadata": {},
     "output_type": "execute_result"
    }
   ],
   "source": [
    "from src.prover.sequence.pattern import prove_find_pattern\n",
    "prove_find_pattern([1,2,3,None,5], 114514)"
   ]
  },
  {
   "cell_type": "code",
   "execution_count": 11,
   "metadata": {},
   "outputs": [
    {
     "data": {
      "text/latex": [
       "$$\\begin{aligned}& -2 + e^{\\frac{7}{10}} = \\int_0^1 \\frac{x \\left(1 - x\\right)^{2} \\cdot \\left(63 x + 220\\right) e^{\\frac{7 x}{10}}}{2000} \\text{d}x > 0\\\\ & \\Rightarrow\\ \\ln\\frac{1}{2} > - \\frac{7}{10}\\end{aligned}$$"
      ],
      "text/plain": [
       "<src.prover.proof.Proof at 0x246e0bef820>"
      ]
     },
     "execution_count": 11,
     "metadata": {},
     "output_type": "execute_result"
    }
   ],
   "source": [
    "from src.prover.derivative.approximation import prove_approx, _prove_approx_integral\n",
    "prove_approx('ln', '0.5', '-0.7', method='integral')"
   ]
  },
  {
   "cell_type": "code",
   "execution_count": 2,
   "metadata": {},
   "outputs": [
    {
     "data": {
      "text/latex": [
       "$$\\begin{aligned}f(x) &= \\left(127 x^{6} + 16632 x^{4} + 1154160 x^{2} + 39251520\\right)\\cos x -\\left(- 14615 x^{6} + 1075032 x^{4} - 18471600 x^{2} + 39251520\\right)\\quad (x\\geqslant 0)\\\\\n",
       "f^{(7)}(x) &= \\left(- 5334 x^{5} + 67704 x^{3} - 4107600 x\\right)\\cos x + \\left(127 x^{6} - 63378 x^{4} - 1436904 x^{2} + 4107600\\right)\\sin x\\\\\n",
       "g(x) &= x + \\arctan\\frac{- 5334 x^{5} + 67704 x^{3} - 4107600 x}{127 x^{6} - 63378 x^{4} - 1436904 x^{2} + 4107600}\\quad (x\\geqslant 0)\\\\\n",
       "g'(x) &= \\frac{16129 x^{12} + 13030962 x^{10} + 3241794024 x^{8} + 261475850160 x^{6}}{16129 x^{12} + 12353544 x^{10} + 2929530996 x^{8} + 231583242240 x^{6} + 987828258816 x^{4} + 5067924019200 x^{2} + 16872377760000}\\geqslant 0\\\\\n",
       "\\Rightarrow g(x)&\\geqslant 0\\ (x\\geqslant 0)\\Rightarrow f^{(7)}(x)\\geqslant 0\\Rightarrow \\cdots \\Rightarrow f(x)\\geqslant 0\\ (x\\geqslant 0)\\\\\n",
       "\\Rightarrow \\cos x&\\geqslant \\frac{- 14615 x^{6} + 1075032 x^{4} - 18471600 x^{2} + 39251520}{127 x^{6} + 16632 x^{4} + 1154160 x^{2} + 39251520}\\quad (x\\geqslant 0)\\end{aligned}$$"
      ],
      "text/plain": [
       "<src.prover.proof.Proof at 0x26df9273fa0>"
      ]
     },
     "execution_count": 2,
     "metadata": {},
     "output_type": "execute_result"
    }
   ],
   "source": [
    "from src.prover.derivative.approximation import prove_pade\n",
    "prove_pade('cos',6,6)"
   ]
  },
  {
   "cell_type": "code",
   "execution_count": 1,
   "metadata": {},
   "outputs": [
    {
     "data": {
      "text/latex": [
       "$$\\begin{aligned}& 换元, 令 t=\\tan (x/2), 则 t\\in \\left[-\\infty, \\infty\\right] \\\\ & f(x) = \\left(4 \\sin{\\left(x \\right)} + 3 \\cos{\\left(x \\right)} + \\frac{11}{5}\\right) \\cos{\\left(x \\right)} = g(t) = \\frac{\\left(1 - t^{2}\\right) \\left(\\frac{8 t}{t^{2} + 1} + \\frac{3 \\cdot \\left(1 - t^{2}\\right)}{t^{2} + 1} + \\frac{11}{5}\\right)}{t^{2} + 1} \\\\ & g(t)=\\frac{2 \\left(t - 1\\right) \\left(t + 1\\right) \\left(2 t^{2} - 20 t - 13\\right)}{5 \\left(t^{2} + 1\\right)^{2}}\\quad g'(t)=\\frac{4 \\left(t - 2\\right) \\left(10 t^{3} + 39 t^{2} + 18 t - 5\\right)}{5 \\left(t^{2} + 1\\right)^{3}} \\\\ & 解得极值点有 \\left\\{\\begin{aligned}& t_{0} = 2\\quad\\\\ & t_{1} = - \\frac{13}{10} - \\frac{\\sqrt[3]{\\frac{20979}{1000} + \\frac{27 \\sqrt{6913} i}{100}}}{3} - \\frac{327}{100 \\sqrt[3]{\\frac{20979}{1000} + \\frac{27 \\sqrt{6913} i}{100}}}\\quad\\\\ & t_{2} = - \\frac{13}{10} - \\frac{\\left(- \\frac{1}{2} + \\frac{\\sqrt{3} i}{2}\\right) \\sqrt[3]{\\frac{20979}{1000} + \\frac{27 \\sqrt{6913} i}{100}}}{3} - \\frac{327}{100 \\left(- \\frac{1}{2} + \\frac{\\sqrt{3} i}{2}\\right) \\sqrt[3]{\\frac{20979}{1000} + \\frac{27 \\sqrt{6913} i}{100}}}\\quad\\\\ & t_{3} = - \\frac{13}{10} - \\frac{327}{100 \\left(- \\frac{1}{2} - \\frac{\\sqrt{3} i}{2}\\right) \\sqrt[3]{\\frac{20979}{1000} + \\frac{27 \\sqrt{6913} i}{100}}} - \\frac{\\left(- \\frac{1}{2} - \\frac{\\sqrt{3} i}{2}\\right) \\sqrt[3]{\\frac{20979}{1000} + \\frac{27 \\sqrt{6913} i}{100}}}{3}\\quad\\\\ & t_{4} = -\\infty\\quad\\\\ & t_{5} = \\infty\\quad \\end{aligned}\\right. \\\\ & 代入验证最小值点 t_{0}, 最大值点 t_{2} \\\\ & \\left\\{\\begin{aligned}& g\\left(t_{0}\\right)=- \\frac{54}{25}\\quad \\\\ &  g\\left(t_{2}\\right)=\\frac{3279}{1250} + \\frac{6905163}{6250000 \\sqrt[3]{\\frac{1483462731}{15625000000} + \\frac{76043 \\sqrt{6913} i}{31250000}}} + 3 \\sqrt[3]{\\frac{1483462731}{15625000000} + \\frac{76043 \\sqrt{6913} i}{31250000}}\\end{aligned}\\right.\\end{aligned}$$"
      ],
      "text/plain": [
       "<src.prover.proof.Proof at 0x1c31eb47e50>"
      ]
     },
     "execution_count": 1,
     "metadata": {},
     "output_type": "execute_result"
    }
   ],
   "source": [
    "from src.prover.trig.inequality import prove_trig_extrema\n",
    "import sympy as sp\n",
    "prove_trig_extrema('cos(x)*(3*cos(x)+4*sin(x)+11/5)', domain = [None, None], method = 'auto')"
   ]
  },
  {
   "cell_type": "code",
   "execution_count": 3,
   "metadata": {},
   "outputs": [
    {
     "data": {
      "text/plain": [
       "'(2625*cos(x))/64 - (1575*cos(2*x))/128 + (183*cos(3*x))/64 - (545*cos(4*x))/512 + (217*sin(x))/16 + (105*sin(2*x))/8 + (31*sin(3*x))/48 - (15*sin(4*x))/16'"
      ]
     },
     "execution_count": 3,
     "metadata": {},
     "output_type": "execute_result"
    }
   ],
   "source": [
    "'(2625*Cos(x))/64 - (1575*Cos(2*x))/128 + (183*Cos(3*x))/64 - (545*Cos(4*x))/512 + (217*Sin(x))/16 + (105*Sin(2*x))/8 + (31*Sin(3*x))/48 - (15*Sin(4*x))/16'.lower()"
   ]
  },
  {
   "cell_type": "code",
   "execution_count": 7,
   "metadata": {},
   "outputs": [
    {
     "data": {
      "text/plain": [
       "{2: 2, 3: 12, 5: 5}"
      ]
     },
     "execution_count": 7,
     "metadata": {},
     "output_type": "execute_result"
    }
   ],
   "source": [
    "sp.factorint(6643012500)"
   ]
  },
  {
   "cell_type": "code",
   "execution_count": 4,
   "metadata": {},
   "outputs": [
    {
     "name": "stdout",
     "output_type": "stream",
     "text": [
      "387420489x^9/10000000000 + 16777216x^8/387420489 + 823543x^7/16777216 + 46656x^6/823543 + 3125x^5/46656 + 256x^4/3125 + 27x^3/256 + 4x^2/27 + x/4\n"
     ]
    }
   ],
   "source": [
    "import sympy as sp\n",
    "x = sp.Symbol('x')\n",
    "ff = sum(k**k*x**k/(k+1)**(k+1) for k in range(1, 10))\n",
    "print(str(ff).replace('**', '^').replace('*', ''))"
   ]
  }
 ],
 "metadata": {
  "kernelspec": {
   "display_name": "Python 3",
   "language": "python",
   "name": "python3"
  },
  "language_info": {
   "codemirror_mode": {
    "name": "ipython",
    "version": 3
   },
   "file_extension": ".py",
   "mimetype": "text/x-python",
   "name": "python",
   "nbconvert_exporter": "python",
   "pygments_lexer": "ipython3",
   "version": "3.8.4"
  },
  "orig_nbformat": 4,
  "vscode": {
   "interpreter": {
    "hash": "1120dc956da57eca5c948a0118f4cdcd4d1b3be98c72752ed298d16085a61d24"
   }
  }
 },
 "nbformat": 4,
 "nbformat_minor": 2
}
