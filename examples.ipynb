{
 "cells": [
  {
   "cell_type": "code",
   "execution_count": 8,
   "metadata": {},
   "outputs": [
    {
     "data": {
      "text/latex": [
       "$$\\begin{aligned}& 正確答案是 114514 \\\\ &  \\\\ & 因為當 \\\\ & f(x)=- 19085 x^{4} + 209935 x^{3} - 782485 x^{2} + 1164186 x - 572550 \\\\ & \\begin{aligned}f\\left(1\\right)&=1\\\\ f\\left(2\\right)&=2\\\\ f\\left(3\\right)&=3\\\\ f\\left(5\\right)&=5\\quad\\quad 真有邏輯\\\\ f\\left(4\\right)&=114514\\\\ \\end{aligned} \\\\ &  \\quad\\quad真是有趣 \\\\ &  \\\\ & 哇 數學 \\\\ &  \\\\ & \\quad\\quad\\quad哇\\end{aligned}$$"
      ],
      "text/plain": [
       "<src.prover.proof.Proof at 0x1f903518460>"
      ]
     },
     "execution_count": 8,
     "metadata": {},
     "output_type": "execute_result"
    }
   ],
   "source": [
    "from src.prover.sequence.pattern import prove_find_pattern\n",
    "prove_find_pattern([1,2,3,None,5], 114514)"
   ]
  },
  {
   "cell_type": "code",
   "execution_count": 6,
   "metadata": {},
   "outputs": [
    {
     "data": {
      "text/latex": [
       "$$e^{\\frac{1}{2}} < \\sum_{k=0}^{2} \\frac{\\left(\\frac{1}{2}\\right)^k}{k!}  + \\frac{\\left(\\frac{1}{2}\\right)^{3}}{3!}e^{\\frac{1}{2}}=\\frac{13}{8} + \\frac{1}{48}e^{\\frac{1}{2}}\\ \\Rightarrow\\ e^{\\frac{1}{2}} < \\frac{78}{47} < \\frac{5}{3}\\ \\Rightarrow\\ \\ln\\frac{5}{3} > \\frac{1}{2}$$"
      ],
      "text/plain": [
       "<src.prover.proof.Proof at 0x2156a096eb0>"
      ]
     },
     "execution_count": 6,
     "metadata": {},
     "output_type": "execute_result"
    }
   ],
   "source": [
    "from src.prover.approximation import prove_approx\n",
    "prove_approx('5/3', '1/2', 'ln')"
   ]
  },
  {
   "cell_type": "code",
   "execution_count": 23,
   "metadata": {},
   "outputs": [
    {
     "data": {
      "text/latex": [
       "$$\\begin{aligned}f(x) &= \\frac{25 x^{4} + 260 x^{3} + 630 x^{2} + 420 x}{6 x^{4} + 120 x^{3} + 540 x^{2} + 840 x + 420} - \\ln(x+1)\\\\\n",
       "f'(x) &= - \\frac{x^{8}}{x^{9} + 41 x^{8} + 620 x^{7} + 4460 x^{6} + 17720 x^{5} + 41840 x^{4} + 60200 x^{3} + 51800 x^{2} + 24500 x + 4900} \\leqslant 0\\end{aligned}$$"
      ],
      "text/plain": [
       "<src.prover.proof.Proof at 0x1bd46d8fbe0>"
      ]
     },
     "execution_count": 23,
     "metadata": {},
     "output_type": "execute_result"
    }
   ],
   "source": [
    "from src.prover.approximation import prove_pade\n",
    "prove_pade('ln',4,4)"
   ]
  }
 ],
 "metadata": {
  "kernelspec": {
   "display_name": "Python 3",
   "language": "python",
   "name": "python3"
  },
  "language_info": {
   "codemirror_mode": {
    "name": "ipython",
    "version": 3
   },
   "file_extension": ".py",
   "mimetype": "text/x-python",
   "name": "python",
   "nbconvert_exporter": "python",
   "pygments_lexer": "ipython3",
   "version": "3.8.4"
  },
  "orig_nbformat": 4,
  "vscode": {
   "interpreter": {
    "hash": "1120dc956da57eca5c948a0118f4cdcd4d1b3be98c72752ed298d16085a61d24"
   }
  }
 },
 "nbformat": 4,
 "nbformat_minor": 2
}
