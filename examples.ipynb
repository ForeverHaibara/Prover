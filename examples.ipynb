{
 "cells": [
  {
   "cell_type": "code",
   "execution_count": 2,
   "metadata": {},
   "outputs": [
    {
     "data": {
      "text/latex": [
       "$$\\begin{aligned}& 正確答案是 114514 \\\\ &  \\\\ & 因為當 \\\\ & f(x)=- 19085 x^{4} + 209935 x^{3} - 782485 x^{2} + 1164186 x - 572550 \\\\ & \\begin{aligned}f\\left(1\\right)&=1\\\\ f\\left(2\\right)&=2\\\\ f\\left(3\\right)&=3\\\\ f\\left(5\\right)&=5\\quad\\quad 真有邏輯\\\\ f\\left(4\\right)&=114514\\\\ \\end{aligned} \\\\ &  \\quad\\quad真是有趣 \\\\ &  \\\\ & 哇 數學 \\\\ &  \\\\ & \\quad\\quad\\quad哇\\end{aligned}$$"
      ],
      "text/plain": [
       "<src.prover.proof.Proof at 0x14f3f2bcaf0>"
      ]
     },
     "execution_count": 2,
     "metadata": {},
     "output_type": "execute_result"
    }
   ],
   "source": [
    "from src.prover.sequence.pattern import prove_find_pattern\n",
    "prove_find_pattern([1,2,3,None,5], 114514)"
   ]
  },
  {
   "cell_type": "code",
   "execution_count": 23,
   "metadata": {},
   "outputs": [
    {
     "data": {
      "text/latex": [
       "$$\\begin{aligned}& -2 + e^{\\frac{7}{10}} = \\int_0^1 \\frac{x \\left(1 - x\\right)^{2} \\cdot \\left(63 x + 220\\right) e^{\\frac{7 x}{10}}}{2000} \\text{d}x > 0\\\\ & \\Rightarrow\\ \\ln\\frac{1}{2} > - \\frac{7}{10}\\end{aligned}$$"
      ],
      "text/plain": [
       "<src.prover.proof.Proof at 0x1c1dda73280>"
      ]
     },
     "execution_count": 23,
     "metadata": {},
     "output_type": "execute_result"
    }
   ],
   "source": [
    "from src.prover.derivative import prove_approx\n",
    "prove_approx('ln', '0.5', '-0.7', method='integral')"
   ]
  },
  {
   "cell_type": "code",
   "execution_count": 22,
   "metadata": {},
   "outputs": [
    {
     "data": {
      "text/latex": [
       "$$\\begin{aligned}f(x) &= \\frac{11 x^{3} + 60 x^{2} + 60 x}{3 x^{3} + 36 x^{2} + 90 x + 60} - \\ln(x+1)\\\\\n",
       "f'(x) &= - \\frac{x^{6}}{x^{7} + 25 x^{6} + 228 x^{5} + 964 x^{4} + 2140 x^{3} + 2580 x^{2} + 1600 x + 400} \\leqslant 0\\end{aligned}$$"
      ],
      "text/plain": [
       "<src.prover.proof.Proof at 0x1c1dea44490>"
      ]
     },
     "execution_count": 22,
     "metadata": {},
     "output_type": "execute_result"
    }
   ],
   "source": [
    "from src.prover.derivative import prove_pade, taylor, pade\n",
    "prove_pade('log', 3)"
   ]
  },
  {
   "cell_type": "code",
   "execution_count": 19,
   "metadata": {},
   "outputs": [
    {
     "data": {
      "text/latex": [
       "$$\\begin{aligned}& 换元, 令 t=\\tan (x/2), 则 t\\in \\left[-\\infty, \\infty\\right] \\\\ & f(x) = \\left(4 \\sin{\\left(x \\right)} + 3 \\cos{\\left(x \\right)} + \\frac{11}{5}\\right) \\cos{\\left(x \\right)} = g(t) = \\frac{\\left(1 - t^{2}\\right) \\left(\\frac{8 t}{t^{2} + 1} + \\frac{3 \\cdot \\left(1 - t^{2}\\right)}{t^{2} + 1} + \\frac{11}{5}\\right)}{t^{2} + 1} \\\\ & g(t)=\\frac{2 \\left(t - 1\\right) \\left(t + 1\\right) \\left(2 t^{2} - 20 t - 13\\right)}{5 \\left(t^{2} + 1\\right)^{2}}\\quad g'(t)=\\frac{4 \\left(t - 2\\right) \\left(10 t^{3} + 39 t^{2} + 18 t - 5\\right)}{5 \\left(t^{2} + 1\\right)^{3}} \\\\ & 解得极值点有 \\left\\{\\begin{aligned}& t_{0} = 2\\quad\\\\ & t_{1} = - \\frac{13}{10} - \\frac{\\sqrt[3]{\\frac{20979}{1000} + \\frac{27 \\sqrt{6913} i}{100}}}{3} - \\frac{327}{100 \\sqrt[3]{\\frac{20979}{1000} + \\frac{27 \\sqrt{6913} i}{100}}}\\quad\\\\ & t_{2} = - \\frac{13}{10} - \\frac{\\left(- \\frac{1}{2} + \\frac{\\sqrt{3} i}{2}\\right) \\sqrt[3]{\\frac{20979}{1000} + \\frac{27 \\sqrt{6913} i}{100}}}{3} - \\frac{327}{100 \\left(- \\frac{1}{2} + \\frac{\\sqrt{3} i}{2}\\right) \\sqrt[3]{\\frac{20979}{1000} + \\frac{27 \\sqrt{6913} i}{100}}}\\quad\\\\ & t_{3} = - \\frac{13}{10} - \\frac{327}{100 \\left(- \\frac{1}{2} - \\frac{\\sqrt{3} i}{2}\\right) \\sqrt[3]{\\frac{20979}{1000} + \\frac{27 \\sqrt{6913} i}{100}}} - \\frac{\\left(- \\frac{1}{2} - \\frac{\\sqrt{3} i}{2}\\right) \\sqrt[3]{\\frac{20979}{1000} + \\frac{27 \\sqrt{6913} i}{100}}}{3}\\quad\\\\ & t_{4} = -\\infty\\quad\\\\ & t_{5} = \\infty\\quad \\end{aligned}\\right. \\\\ & 代入验证最小值点 t_{0}, 最大值点 t_{2} \\\\ & \\left\\{\\begin{aligned}& g\\left(t_{0}\\right)=- \\frac{54}{25}\\quad \\\\ &  g\\left(t_{2}\\right)=\\frac{3279}{1250} + \\frac{6905163}{6250000 \\sqrt[3]{\\frac{1483462731}{15625000000} + \\frac{76043 \\sqrt{6913} i}{31250000}}} + 3 \\sqrt[3]{\\frac{1483462731}{15625000000} + \\frac{76043 \\sqrt{6913} i}{31250000}}\\end{aligned}\\right.\\end{aligned}$$"
      ],
      "text/plain": [
       "<src.prover.proof.Proof at 0x1c1de94e9a0>"
      ]
     },
     "execution_count": 19,
     "metadata": {},
     "output_type": "execute_result"
    }
   ],
   "source": [
    "from src.prover.trig.inequality import prove_trig_extrema\n",
    "import sympy as sp\n",
    "prove_trig_extrema('cos(x)*(3*cos(x)+4*sin(x)+11/5)', domain = [None, None], method = 'auto')"
   ]
  }
 ],
 "metadata": {
  "kernelspec": {
   "display_name": "Python 3",
   "language": "python",
   "name": "python3"
  },
  "language_info": {
   "codemirror_mode": {
    "name": "ipython",
    "version": 3
   },
   "file_extension": ".py",
   "mimetype": "text/x-python",
   "name": "python",
   "nbconvert_exporter": "python",
   "pygments_lexer": "ipython3",
   "version": "3.8.4"
  },
  "orig_nbformat": 4,
  "vscode": {
   "interpreter": {
    "hash": "1120dc956da57eca5c948a0118f4cdcd4d1b3be98c72752ed298d16085a61d24"
   }
  }
 },
 "nbformat": 4,
 "nbformat_minor": 2
}
